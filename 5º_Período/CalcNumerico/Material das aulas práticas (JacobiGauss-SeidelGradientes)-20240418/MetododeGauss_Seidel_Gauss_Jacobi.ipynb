{
  "nbformat": 4,
  "nbformat_minor": 0,
  "metadata": {
    "colab": {
      "provenance": []
    },
    "kernelspec": {
      "name": "python3",
      "display_name": "Python 3"
    },
    "language_info": {
      "name": "python"
    }
  },
  "cells": [
    {
      "cell_type": "code",
      "execution_count": null,
      "metadata": {
        "colab": {
          "base_uri": "https://localhost:8080/"
        },
        "id": "Z4ej5gzmHDdC",
        "outputId": "53c87930-4675-4f5d-fc4b-0597bc9ff9ae"
      },
      "outputs": [
        {
          "output_type": "stream",
          "name": "stdout",
          "text": [
            "Solução: [3.14634143 0.58536568 0.19512191]\n",
            "Iterações: 17\n"
          ]
        }
      ],
      "source": [
        "import numpy as np\n",
        "\n",
        "def gauss_jacobi(A, b, x0, tol):\n",
        "    n = A.shape[0]\n",
        "    D = np.diag(np.diag(A))\n",
        "    C = np.eye(n) - np.linalg.inv(D) @ A\n",
        "    g = np.linalg.inv(D) @ b\n",
        "    kmax = 10000\n",
        "    k = 0\n",
        "    while np.linalg.norm(b - A @ x0) > tol and k < kmax:\n",
        "        k += 1\n",
        "        x0 = C @ x0 + g\n",
        "    if k == kmax:\n",
        "        print('Erro: o metodo nao converge.')\n",
        "        return None, None\n",
        "    return x0, k\n",
        "\n",
        "# Exemplo:\n",
        "A = np.array([[4, -1, 0],\n",
        "              [-1, 4, -1],\n",
        "              [0, -1, 3]])\n",
        "b = np.array([12, -1, 0])\n",
        "x0 = np.zeros_like(b)\n",
        "tol = 1e-6\n",
        "x, k = gauss_jacobi(A, b, x0, tol)\n",
        "print(\"Solução:\", x)\n",
        "print(\"Iterações:\", k)"
      ]
    },
    {
      "cell_type": "code",
      "source": [
        "import numpy as np\n",
        "\n",
        "def gauss_seidel(A, b, x0, tol):\n",
        "    L = np.tril(A)\n",
        "    R = np.triu(A, 1)\n",
        "    C = -np.linalg.inv(L) @ R\n",
        "    g = np.linalg.inv(L) @ b\n",
        "    kmax = 10000\n",
        "    k = 0\n",
        "    while np.linalg.norm(b - A @ x0) > tol and k < kmax:\n",
        "        k += 1\n",
        "        x0 = C @ x0 + g\n",
        "    if k == kmax:\n",
        "        print('Erro: o metodo nao converge.')\n",
        "        return None, None\n",
        "    return x0, k\n",
        "\n",
        "\n",
        "#Exemplo\n",
        "A = np.array([[4, -1, 0],\n",
        "              [-1, 4, -1],\n",
        "              [0, -1, 3]])\n",
        "b = np.array([12, -1, 0])\n",
        "x0 = np.zeros_like(b)\n",
        "tol = 1e-6\n",
        "\n",
        "x, k = gauss_seidel(A, b, x0, tol)\n",
        "if x is not None and k is not None:\n",
        "    print(\"Solução:\", x)\n",
        "    print(\"Iterações:\", k)\n"
      ],
      "metadata": {
        "colab": {
          "base_uri": "https://localhost:8080/"
        },
        "id": "6vDHqzT5HPQO",
        "outputId": "3722be22-6841-40db-95ad-d4fe247e5701"
      },
      "execution_count": null,
      "outputs": [
        {
          "output_type": "stream",
          "name": "stdout",
          "text": [
            "Solução: [3.14634126 0.58536573 0.19512191]\n",
            "Iterações: 8\n"
          ]
        }
      ]
    }
  ]
}