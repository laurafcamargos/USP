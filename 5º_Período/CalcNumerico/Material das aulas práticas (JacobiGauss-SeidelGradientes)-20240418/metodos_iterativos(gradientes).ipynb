{
  "nbformat": 4,
  "nbformat_minor": 0,
  "metadata": {
    "colab": {
      "provenance": []
    },
    "kernelspec": {
      "name": "python3",
      "display_name": "Python 3"
    },
    "language_info": {
      "name": "python"
    }
  },
  "cells": [
    {
      "cell_type": "code",
      "execution_count": 2,
      "metadata": {
        "id": "zw7s3GxznApu"
      },
      "outputs": [],
      "source": [
        " ########################\n",
        "                    # MÉTODO DOS GRADIENTES #\n",
        "                    ########################\n",
        "import numpy as np\n",
        "from numpy import linalg as LA\n",
        "\n",
        "def is_pos_def(x):\n",
        "    \"\"\"verifique se uma matriz é simétrica positiva definida\"\"\"\n",
        "    return np.all(np.linalg.eigvals(x) > 0)\n",
        "\n",
        "def metodos_dos_gradientes(A, b, x):\n",
        "    \"\"\"\n",
        "    Resolve Ax = b para A matriz SPD\n",
        "    Parametro x: Valores inciais\n",
        "    \"\"\"\n",
        "    if (is_pos_def(A) == False) | (A != A.T).any():\n",
        "        raise ValueError('A matriz A precisa ser simétrica positiva definida(SPD)')\n",
        "    r = b - A @ x\n",
        "    k = 0\n",
        "    while LA.norm(r) > 1e-10 :\n",
        "        p = r\n",
        "        q = A @ p\n",
        "        alpha = (p @ r) / (p @ q)\n",
        "        x = x + alpha * p\n",
        "        r = r - alpha * q\n",
        "        k =+ 1\n",
        "\n",
        "    return x\n",
        "#******************************************************************************#"
      ]
    },
    {
      "cell_type": "code",
      "source": [
        "  ################\n",
        "                        ## EXEMPLO 01 ##\n",
        "                        ################\n",
        "# Primeiro passo, passamos os dados do exercício...\n",
        "A = np.array([[3,2], [2,3]])\n",
        "b = np.array([-2,7])\n",
        "x0 = np.array([0,0])\n",
        "# Agora, chamamos a nossa função: metodos_dos_gradientes(A,b,xo)!\n",
        "metodos_dos_gradientes(A, b, x0)"
      ],
      "metadata": {
        "colab": {
          "base_uri": "https://localhost:8080/"
        },
        "id": "RidDxlE5nG6h",
        "outputId": "1cee4167-f5f2-4262-bce2-eed02b59075c"
      },
      "execution_count": null,
      "outputs": [
        {
          "output_type": "execute_result",
          "data": {
            "text/plain": [
              "array([-4.,  5.])"
            ]
          },
          "metadata": {},
          "execution_count": 2
        }
      ]
    },
    {
      "cell_type": "code",
      "source": [
        "#########################\n",
        "                    ## EXEMPLO 02: Slide 32##\n",
        "                    #########################\n",
        "# Primeiro passo, passamos os dados do exercício...\n",
        "A = np.array([[3,2], [2,6]])\n",
        "b = np.array([2,-8])\n",
        "x0 = np.array([-2,2])\n",
        "# Agora chamamos a nossa função: metodos_dos_gradientes(A,b,xo)!\n",
        "metodos_dos_gradientes(A, b, x0)\n",
        "#******************************************************************************#"
      ],
      "metadata": {
        "colab": {
          "base_uri": "https://localhost:8080/"
        },
        "id": "Qb_kZcfknJ2Q",
        "outputId": "241d3df0-1f53-4b1b-ab00-f744847c6255"
      },
      "execution_count": null,
      "outputs": [
        {
          "output_type": "execute_result",
          "data": {
            "text/plain": [
              "array([ 2., -2.])"
            ]
          },
          "metadata": {},
          "execution_count": 3
        }
      ]
    }
  ]
}